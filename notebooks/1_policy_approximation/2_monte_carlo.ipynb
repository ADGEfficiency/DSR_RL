{
 "cells": [
  {
   "cell_type": "markdown",
   "metadata": {},
   "source": [
    "Purpose of this notebook is to demonstrate the Monte Carlo method for policy approximation.\n",
    "\n",
    "Aim is for the student to understand the following features of Monte Carlo methods\n",
    "\n",
    "- high variance\n",
    "- inefficient in terms of using experience\n",
    "- lack of any bootstrapping\n",
    "- lack of environment model "
   ]
  },
  {
   "cell_type": "code",
   "execution_count": 1,
   "metadata": {
    "collapsed": true
   },
   "outputs": [],
   "source": [
    "import numpy as np"
   ]
  },
  {
   "cell_type": "code",
   "execution_count": 52,
   "metadata": {
    "collapsed": true
   },
   "outputs": [],
   "source": [
    "#  we make use of a class for the Maze Markov Decision Process\n",
    "#  I have incorporated the logic from the dynamic programming notebook into this class\n",
    "\n",
    "class Maze_Env(object):\n",
    "    def __init__(self, verbose=0):\n",
    "        \n",
    "        #  creating the functions needed to define a Markov Decision Process\n",
    "        self.state_space = np.array(['s{}'.format(state) for state in np.arange(1,6)])\n",
    "        self.action_space = np.array(['left', 'right', 'up', 'down'])\n",
    "        self.state_transitions = {state:np.genfromtxt('{}.csv'.format(state), delimiter=',') for state in self.state_space}\n",
    "        self.reward_functions = {state:np.full((len(self.state_space)),-1) for state in self.state_space}\n",
    "        \n",
    "        #  our two changes to the reward function\n",
    "        self.reward_functions['s4'][4] = 10\n",
    "        self.reward_functions['s5'] = np.full((len(self.state_space)),0)\n",
    "        self.verbose = verbose\n",
    "        \n",
    "        self.state = self.reset()\n",
    "        \n",
    "    def reset(self):   \n",
    "        \"\"\"\n",
    "        Resets the environment to the initial state\n",
    "        \"\"\"\n",
    "        print('resetting environment')\n",
    "        self.state = 's1'\n",
    "        return self.state\n",
    "        \n",
    "    def step(self, action):\n",
    "        \"\"\"\n",
    "        Environment response to a given action\n",
    "        \n",
    "        action -> reward + next_state\n",
    "        \"\"\"\n",
    "\n",
    "        state_idx = np.argwhere(self.state==self.state_space).flatten()\n",
    "        action_idx = np.argwhere(action==self.action_space).flatten()\n",
    "\n",
    "        state_transition = self.state_transitions[self.state][action_idx].flatten()\n",
    "        next_state = np.random.choice(self.state_space, p=state_transition)\n",
    "        next_state_idx = np.argwhere(next_state==self.state_space).flatten()\n",
    "    \n",
    "        reward_function = self.reward_functions[self.state].flatten()     \n",
    "        reward = reward_function[next_state_idx]\n",
    "        \n",
    "        if self.verbose == 1:\n",
    "            print('state is {}'.format(self.state))\n",
    "            print('action is {}'.format(action))\n",
    "            print('reward is {}'.format(reward))\n",
    "            print('next_state is {}'.format(next_state))\n",
    "        self.state = next_state   \n",
    "        return reward, next_state"
   ]
  },
  {
   "cell_type": "code",
   "execution_count": 55,
   "metadata": {
    "collapsed": true
   },
   "outputs": [],
   "source": [
    "#  we also use our old friend random_policy\n",
    "\n",
    "def random_policy(state, action_space):\n",
    "    action = np.random.choice(action_space)\n",
    "    p_distribution = np.full(len(action_space),  1/len(action_space))\n",
    "    return action, p_distribution"
   ]
  },
  {
   "cell_type": "code",
   "execution_count": 92,
   "metadata": {},
   "outputs": [
    {
     "name": "stdout",
     "output_type": "stream",
     "text": [
      "resetting environment\n",
      "resetting environment\n",
      "episode 0 step 0\n",
      "episode 0 step 1\n",
      "episode 0 step 2\n",
      "episode 0 step 3\n",
      "episode 0 step 4\n",
      "episode 0 step 5\n",
      "episode 0 step 6\n",
      "episode 0 step 7\n",
      "episode 0 step 8\n",
      "episode 0 step 9\n",
      "resetting environment\n",
      "episode 1 step 0\n",
      "episode 1 step 1\n",
      "episode 1 step 2\n",
      "episode 1 step 3\n",
      "episode 1 step 4\n",
      "episode 1 step 5\n",
      "episode 1 step 6\n",
      "episode 1 step 7\n",
      "episode 1 step 8\n",
      "episode 1 step 9\n",
      "resetting environment\n",
      "episode 2 step 0\n",
      "episode 2 step 1\n",
      "episode 2 step 2\n",
      "episode 2 step 3\n",
      "episode 2 step 4\n",
      "episode 2 step 5\n",
      "episode 2 step 6\n",
      "episode 2 step 7\n",
      "episode 2 step 8\n",
      "episode 2 step 9\n",
      "resetting environment\n",
      "episode 3 step 0\n",
      "episode 3 step 1\n",
      "episode 3 step 2\n",
      "episode 3 step 3\n",
      "episode 3 step 4\n",
      "episode 3 step 5\n",
      "episode 3 step 6\n",
      "episode 3 step 7\n",
      "episode 3 step 8\n",
      "episode 3 step 9\n",
      "resetting environment\n",
      "episode 4 step 0\n",
      "episode 4 step 1\n",
      "episode 4 step 2\n",
      "episode 4 step 3\n",
      "episode 4 step 4\n",
      "episode 4 step 5\n",
      "episode 4 step 6\n",
      "episode 4 step 7\n",
      "episode 4 step 8\n",
      "episode 4 step 9\n"
     ]
    }
   ],
   "source": [
    "env = Maze_Env(verbose=0)\n",
    "HORIZION = 10\n",
    "EPISODES = 5\n",
    "\n",
    "rewards = np.zeros(shape=(EPISODES, HORIZION))\n",
    "for episode in range(0, EPISODES):\n",
    "    state = env.reset()\n",
    "    for step in range(0, HORIZION):\n",
    "        print('episode {} step {}'.format(episode, step))\n",
    "        action, _ = random_policy(state, env.action_space)\n",
    "        reward, next_state = env.step(action)\n",
    "        rewards[episode][step] = reward\n",
    "        "
   ]
  },
  {
   "cell_type": "code",
   "execution_count": 91,
   "metadata": {},
   "outputs": [
    {
     "data": {
      "text/plain": [
       "array([[ -1.,  -1.,  -1.,  -1.,  -1.,  -1.,  -1.,  -1.,  -1.,  10.],\n",
       "       [ -1.,  -1.,  -1.,  -1.,  -1.,  -1.,  -1.,  -1.,  -1.,  -1.],\n",
       "       [ -1.,  -1.,  -1.,  -1.,  -1.,  -1.,  -1.,  -1.,  -1.,  -1.],\n",
       "       [ -1.,  -1.,  -1.,  -1.,  -1.,  -1.,  -1.,  -1.,  10.,   0.],\n",
       "       [ -1.,  -1.,  -1.,  -1.,  -1.,  -1.,  -1.,  -1.,  -1.,  -1.]])"
      ]
     },
     "execution_count": 91,
     "metadata": {},
     "output_type": "execute_result"
    }
   ],
   "source": [
    "rewards"
   ]
  },
  {
   "cell_type": "code",
   "execution_count": null,
   "metadata": {
    "collapsed": true
   },
   "outputs": [],
   "source": []
  }
 ],
 "metadata": {
  "kernelspec": {
   "display_name": "Python 3",
   "language": "python",
   "name": "python3"
  },
  "language_info": {
   "codemirror_mode": {
    "name": "ipython",
    "version": 3
   },
   "file_extension": ".py",
   "mimetype": "text/x-python",
   "name": "python",
   "nbconvert_exporter": "python",
   "pygments_lexer": "ipython3",
   "version": "3.6.1"
  }
 },
 "nbformat": 4,
 "nbformat_minor": 2
}
