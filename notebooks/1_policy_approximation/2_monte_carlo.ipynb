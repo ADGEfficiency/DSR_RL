{
 "cells": [
  {
   "cell_type": "markdown",
   "metadata": {},
   "source": [
    "Purpose of this notebook is to demonstrate the Monte Carlo method for policy approximation.\n",
    "\n",
    "Aim is for you to understand the following features of Monte Carlo methods\n",
    "\n",
    "- high variance\n",
    "- inefficient in terms of using experience\n",
    "- lack of any bootstrapping\n",
    "- lack of environment model "
   ]
  },
  {
   "cell_type": "code",
   "execution_count": null,
   "metadata": {
    "collapsed": true
   },
   "outputs": [],
   "source": [
    "import collections\n",
    "\n",
    "import numpy as np"
   ]
  },
  {
   "cell_type": "code",
   "execution_count": null,
   "metadata": {
    "collapsed": true
   },
   "outputs": [],
   "source": [
    "#  we make use of a class for the Maze Markov Decision Process\n",
    "#  I have incorporated the logic from the dynamic programming notebook into this class\n",
    "\n",
    "class Maze_Env(object):\n",
    "    def __init__(self, verbose=0):\n",
    "\n",
    "        self.verbose = verbose\n",
    "        \n",
    "        #  creating the functions needed to define a Markov Decision Process\n",
    "        self.state_space = np.array(['s{}'.format(state) for state in np.arange(1,6)])\n",
    "        self.action_space = np.array(['left', 'right', 'up', 'down'])\n",
    "        self.state_transitions = {state:np.genfromtxt('{}.csv'.format(state), delimiter=',') for state in self.state_space}\n",
    "        self.reward_functions = {state:np.full((len(self.state_space)),-1) for state in self.state_space}\n",
    "        \n",
    "        #  our two changes to the reward function\n",
    "        self.reward_functions['s4'][4] = 10\n",
    "        self.reward_functions['s5'] = np.full((len(self.state_space)),0)\n",
    "        \n",
    "        self.state = self.reset()\n",
    "        \n",
    "    def reset(self):   \n",
    "        \"\"\"\n",
    "        Resets the environment to the initial state\n",
    "        \"\"\"\n",
    "        self.state = 's1'\n",
    "        return self.state\n",
    "        \n",
    "    def step(self, action):\n",
    "        \"\"\"\n",
    "        Environment response to a given action\n",
    "        \n",
    "        action -> reward + next_state\n",
    "        \"\"\"\n",
    "\n",
    "        state_idx = np.argwhere(self.state==self.state_space).flatten()\n",
    "        action_idx = np.argwhere(action==self.action_space).flatten()\n",
    "\n",
    "        state_transition = self.state_transitions[self.state][action_idx].flatten()\n",
    "        next_state = np.random.choice(self.state_space, p=state_transition)\n",
    "        next_state_idx = np.argwhere(next_state==self.state_space).flatten()\n",
    "    \n",
    "        reward_function = self.reward_functions[self.state].flatten()     \n",
    "        reward = reward_function[next_state_idx]\n",
    "        \n",
    "        if self.verbose == 1:\n",
    "            print('state is {}'.format(self.state))\n",
    "            print('action is {}'.format(action))\n",
    "            print('reward is {}'.format(reward))\n",
    "            print('next_state is {}'.format(next_state))\n",
    "        self.state = next_state   \n",
    "        return reward, next_state"
   ]
  },
  {
   "cell_type": "code",
   "execution_count": null,
   "metadata": {
    "collapsed": true
   },
   "outputs": [],
   "source": [
    "#  we also use our old friend random_policy\n",
    "#  we don't need the probability distribution now\n",
    "\n",
    "def random_policy(state, action_space):\n",
    "    action = np.random.choice(action_space)\n",
    "    return action"
   ]
  },
  {
   "cell_type": "code",
   "execution_count": null,
   "metadata": {},
   "outputs": [],
   "source": [
    "HORIZION = 30\n",
    "EPISODES = 10000\n",
    "\n",
    "env = Maze_Env(verbose=0)\n",
    "\n",
    "rewards = np.zeros(shape=(EPISODES, HORIZION))\n",
    "states_visited = np.empty(shape=rewards.shape, dtype=object)  # can I use a different dtype here?\n",
    "\n",
    "print('running {} episodes'.format(EPISODES))       \n",
    "for episode in range(0, EPISODES):\n",
    "    state = env.reset()\n",
    "    \n",
    "    for step in range(0, HORIZION):\n",
    "        action = random_policy(state, env.action_space)\n",
    "        reward, next_state = env.step(action)\n",
    "        rewards[episode][step] = reward\n",
    "        states_visited[episode][step] = state\n",
    "        state = next_state\n",
    "      "
   ]
  },
  {
   "cell_type": "code",
   "execution_count": null,
   "metadata": {
    "scrolled": true
   },
   "outputs": [],
   "source": [
    "#  define a class for our Monte Carlo policy approximator\n",
    "\n",
    "class MonteCarlo(object):\n",
    "    def __init__(self, state_space):\n",
    "        self.state_space = state_space\n",
    "        \n",
    "        self.returns_lists = collections.defaultdict(list) \n",
    "        self.value_function = collections.defaultdict(list) \n",
    "\n",
    "        self.discount_factor = 0.9\n",
    "        \n",
    "    def calc_returns(self, rewards):    \n",
    "        R = 0\n",
    "        returns = []\n",
    "        for r in list(rewards)[::-1]:\n",
    "            R = r + self.discount_factor * R  # the Bellman equation\n",
    "            returns.insert(0, R)\n",
    "        return np.array(returns)\n",
    "    \n",
    "    def update_value_function(self, state):\n",
    "        self.value_function[state] = np.mean(self.returns_lists[state]) \n",
    "        return self.value_function\n",
    "    \n",
    "    def process_experience(self, states, rewards):\n",
    "        print('processing {} episodes'.format(states.shape[0]))\n",
    "        for ep, (episode_states, episode_rewards) in enumerate(zip(list(states), list(rewards))):\n",
    "            episode_returns = self.calc_returns(episode_rewards)\n",
    "            \n",
    "            assert episode_states.shape == episode_rewards.shape\n",
    "            assert episode_rewards.shape == episode_returns.shape\n",
    "            \n",
    "            for state, rtn in zip(episode_states, episode_returns):\n",
    "                self.returns_lists[state].append(rtn)\n",
    "                self.value_function = self.update_value_function(state)\n",
    "            \n",
    "            if ep % 100 == 0:\n",
    "                print('episode {} value function is {}'.format(ep, self.value_function))\n",
    "                \n",
    "        return self.value_function\n",
    "        \n",
    "approx = MonteCarlo(env.state_space)\n",
    "value_function = approx.process_experience(states_visited, rewards)"
   ]
  },
  {
   "cell_type": "code",
   "execution_count": null,
   "metadata": {},
   "outputs": [],
   "source": [
    "value_function"
   ]
  },
  {
   "cell_type": "code",
   "execution_count": null,
   "metadata": {
    "collapsed": true
   },
   "outputs": [],
   "source": []
  }
 ],
 "metadata": {
  "kernelspec": {
   "display_name": "Python 3",
   "language": "python",
   "name": "python3"
  },
  "language_info": {
   "codemirror_mode": {
    "name": "ipython",
    "version": 3
   },
   "file_extension": ".py",
   "mimetype": "text/x-python",
   "name": "python",
   "nbconvert_exporter": "python",
   "pygments_lexer": "ipython3",
   "version": "3.6.1"
  }
 },
 "nbformat": 4,
 "nbformat_minor": 2
}
